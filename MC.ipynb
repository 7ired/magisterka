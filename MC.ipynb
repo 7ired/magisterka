{
  "nbformat": 4,
  "nbformat_minor": 0,
  "metadata": {
    "colab": {
      "provenance": []
    },
    "kernelspec": {
      "name": "python3",
      "display_name": "Python 3"
    },
    "language_info": {
      "name": "python"
    }
  },
  "cells": [
    {
      "cell_type": "code",
      "source": [
        "import pandas as pd\n",
        "import numpy as np\n",
        "import yfinance as yf\n",
        "from sklearn.metrics import confusion_matrix\n",
        "from sklearn.metrics import ConfusionMatrixDisplay\n",
        "from sklearn.metrics import accuracy_score, precision_score, recall_score, f1_score"
      ],
      "metadata": {
        "id": "z60i_0e-U7Mm"
      },
      "execution_count": null,
      "outputs": []
    },
    {
      "cell_type": "code",
      "execution_count": null,
      "metadata": {
        "colab": {
          "base_uri": "https://localhost:8080/"
        },
        "id": "NIuU47qLMcgp",
        "outputId": "a937c11e-332d-4979-b6e3-2fe5d9a9d2c1"
      },
      "outputs": [
        {
          "output_type": "stream",
          "name": "stdout",
          "text": [
            "\r[*********************100%***********************]  1 of 1 completed\n"
          ]
        }
      ],
      "source": [
        "start_date = \"1980-01-01\"\n",
        "end_date = \"2023-01-01\"\n",
        "\n",
        "stock_data = yf.download('^GSPC', start=start_date, end=end_date)\n",
        "\n",
        "stock_data['Daily_Return'] = stock_data['Close'].pct_change()\n",
        "stock_data.dropna(inplace=True)\n",
        "df = stock_data[['Close', 'Daily_Return']]\n"
      ]
    },
    {
      "cell_type": "code",
      "source": [
        "df['State'] = 'Same'\n",
        "\n",
        "df['Close'] = df['Close'].astype(int)\n",
        "\n",
        "df.loc[df['Close'] > df['Close'].shift(), 'State'] = 'Up'\n",
        "df.loc[df['Close'] < df['Close'].shift(), 'State'] = 'Down'"
      ],
      "metadata": {
        "colab": {
          "base_uri": "https://localhost:8080/"
        },
        "id": "LSUDXTKyUW9b",
        "outputId": "4a13e856-f72f-4c89-a84b-d961fccaed91"
      },
      "execution_count": null,
      "outputs": [
        {
          "output_type": "stream",
          "name": "stderr",
          "text": [
            "<ipython-input-124-e237914385d7>:1: SettingWithCopyWarning: \n",
            "A value is trying to be set on a copy of a slice from a DataFrame.\n",
            "Try using .loc[row_indexer,col_indexer] = value instead\n",
            "\n",
            "See the caveats in the documentation: https://pandas.pydata.org/pandas-docs/stable/user_guide/indexing.html#returning-a-view-versus-a-copy\n",
            "  df['State'] = 'Same'\n",
            "<ipython-input-124-e237914385d7>:3: SettingWithCopyWarning: \n",
            "A value is trying to be set on a copy of a slice from a DataFrame.\n",
            "Try using .loc[row_indexer,col_indexer] = value instead\n",
            "\n",
            "See the caveats in the documentation: https://pandas.pydata.org/pandas-docs/stable/user_guide/indexing.html#returning-a-view-versus-a-copy\n",
            "  df['Close'] = df['Close'].astype(int)\n"
          ]
        }
      ]
    },
    {
      "cell_type": "code",
      "source": [
        "df['State'].value_counts()"
      ],
      "metadata": {
        "colab": {
          "base_uri": "https://localhost:8080/"
        },
        "id": "BpCnPI74yTKg",
        "outputId": "1d457ccc-5687-48b4-be1e-b0c5f2ac4365"
      },
      "execution_count": null,
      "outputs": [
        {
          "output_type": "execute_result",
          "data": {
            "text/plain": [
              "Up      5152\n",
              "Down    4470\n",
              "Same    1220\n",
              "Name: State, dtype: int64"
            ]
          },
          "metadata": {},
          "execution_count": 125
        }
      ]
    },
    {
      "cell_type": "code",
      "source": [
        "df['Next_State'] = df['State'].shift(-1)\n",
        "\n",
        "df = df.dropna()\n",
        "\n",
        "transition_counts = df.groupby(['State', 'Next_State']).size().reset_index(name='Count')\n",
        "\n",
        "transition_matrix = transition_counts.pivot(index='State', columns='Next_State', values='Count')\n",
        "\n",
        "transition_matrix = transition_matrix.fillna(0)\n",
        "\n",
        "transition_matrix = transition_matrix.div(transition_matrix.sum(axis=1), axis=0)\n",
        "\n",
        "transition_matrix_np = transition_matrix.to_numpy()\n",
        "\n",
        "print(\"Transition Matrix:\")\n",
        "print(transition_matrix)\n"
      ],
      "metadata": {
        "colab": {
          "base_uri": "https://localhost:8080/"
        },
        "id": "28X1yiJl1svG",
        "outputId": "e80eabe2-d919-4369-ea10-e4b7a737d901"
      },
      "execution_count": null,
      "outputs": [
        {
          "output_type": "stream",
          "name": "stdout",
          "text": [
            "Transition Matrix:\n",
            "Next_State      Down      Same        Up\n",
            "State                                   \n",
            "Down        0.404565  0.094652  0.500783\n",
            "Same        0.349180  0.214754  0.436066\n",
            "Up          0.434006  0.103649  0.462345\n"
          ]
        },
        {
          "output_type": "stream",
          "name": "stderr",
          "text": [
            "<ipython-input-127-bf50406ec487>:1: SettingWithCopyWarning: \n",
            "A value is trying to be set on a copy of a slice from a DataFrame.\n",
            "Try using .loc[row_indexer,col_indexer] = value instead\n",
            "\n",
            "See the caveats in the documentation: https://pandas.pydata.org/pandas-docs/stable/user_guide/indexing.html#returning-a-view-versus-a-copy\n",
            "  df['Next_State'] = df['State'].shift(-1)\n"
          ]
        }
      ]
    },
    {
      "cell_type": "code",
      "source": [
        "def predict_next_states(current_state, transition_matrix, n=1):\n",
        "\n",
        "    current_state_row = transition_matrix.loc[current_state]\n",
        "\n",
        "    probabilities = current_state_row.values\n",
        "\n",
        "    next_states = current_state_row.index\n",
        "\n",
        "    predicted_next_states = np.random.choice(next_states, size=n, p=probabilities)\n",
        "\n",
        "    return predicted_next_states"
      ],
      "metadata": {
        "id": "wzP6psbDCkny"
      },
      "execution_count": null,
      "outputs": []
    },
    {
      "cell_type": "code",
      "source": [
        "current_state = 'Up'\n",
        "predicted_next_states = predict_next_states(current_state, transition_matrix, n=5)\n",
        "\n",
        "print(f\"Current state: {current_state}, Predicted next states: {predicted_next_states}\")\n"
      ],
      "metadata": {
        "colab": {
          "base_uri": "https://localhost:8080/"
        },
        "id": "bHX7BOBeCobc",
        "outputId": "d6f5c788-518c-4531-bf0f-651e9144a3be"
      },
      "execution_count": null,
      "outputs": [
        {
          "output_type": "stream",
          "name": "stdout",
          "text": [
            "Current state: Up, Predicted next states: ['Same' 'Down' 'Up' 'Down' 'Down']\n"
          ]
        }
      ]
    },
    {
      "cell_type": "code",
      "source": [
        "actual_data = df.copy()"
      ],
      "metadata": {
        "id": "oy8yr1fLGZ5x"
      },
      "execution_count": null,
      "outputs": []
    },
    {
      "cell_type": "code",
      "source": [
        "df.reset_index(inplace=True)\n",
        "df['Date'] = pd.to_datetime(df['Date'])\n",
        "df = df.set_index('Date')\n",
        "\n",
        "initial_state = df.loc['2022-01-03', 'State']\n",
        "\n",
        "# Function to predict the next state based on the transition matrix\n",
        "def predict_next_state(current_state, transition_matrix):\n",
        "    current_state_row = transition_matrix.loc[current_state]\n",
        "    probabilities = current_state_row.values\n",
        "    next_states = current_state_row.index\n",
        "    predicted_next_state = np.random.choice(next_states, p=probabilities)\n",
        "    return predicted_next_state\n",
        "\n",
        "date_range = pd.date_range(start='2022-01-01', end='2023-01-01', freq='D')\n",
        "predictions = [initial_state]\n",
        "\n",
        "for i in range(1, len(date_range)):\n",
        "    next_state = predict_next_state(predictions[i - 1], transition_matrix)\n",
        "    predictions.append(next_state)\n",
        "\n",
        "predictions_df = pd.DataFrame({'Predicted_State': predictions}, index=date_range)\n",
        "\n",
        "\n",
        "actual_data.reset_index(inplace=True)\n",
        "actual_data['Date'] = pd.to_datetime(actual_data['Date'])\n",
        "actual_data = actual_data.set_index('Date')\n",
        "\n",
        "actual_data_2022 = actual_data['2022-01-03':'2022-12-31']\n",
        "\n",
        "comparison_df = actual_data_2022.join(predictions_df)\n",
        "\n",
        "print(comparison_df)\n"
      ],
      "metadata": {
        "colab": {
          "base_uri": "https://localhost:8080/"
        },
        "id": "RTRA9GWoEAUI",
        "outputId": "4be53a7a-db5c-43b3-fb27-26bb3226295a"
      },
      "execution_count": null,
      "outputs": [
        {
          "output_type": "stream",
          "name": "stdout",
          "text": [
            "            Close  Daily_Return State Next_State Predicted_State\n",
            "Date                                                            \n",
            "2022-01-03   4796      0.006374    Up       Down              Up\n",
            "2022-01-04   4793     -0.000630  Down       Down              Up\n",
            "2022-01-05   4700     -0.019393  Down       Down            Down\n",
            "2022-01-06   4696     -0.000964  Down       Down            Down\n",
            "2022-01-07   4677     -0.004050  Down       Down            Same\n",
            "...           ...           ...   ...        ...             ...\n",
            "2022-12-22   3822     -0.014452  Down         Up              Up\n",
            "2022-12-23   3844      0.005868    Up       Down              Up\n",
            "2022-12-27   3829     -0.004050  Down       Down            Down\n",
            "2022-12-28   3783     -0.012021  Down         Up              Up\n",
            "2022-12-29   3849      0.017461    Up       Down            Same\n",
            "\n",
            "[250 rows x 5 columns]\n"
          ]
        }
      ]
    },
    {
      "cell_type": "code",
      "source": [
        "merged_data = actual_data_2022.merge(predictions_df, left_index=True, right_index=True, suffixes=('_Actual', '_Predicted'))"
      ],
      "metadata": {
        "id": "9HIALGDsIKzJ"
      },
      "execution_count": null,
      "outputs": []
    },
    {
      "cell_type": "code",
      "source": [
        "merged_data['Correct_Prediction'] = merged_data['Next_State'] == merged_data['Predicted_State']"
      ],
      "metadata": {
        "id": "QQt-8sWdJf4E"
      },
      "execution_count": null,
      "outputs": []
    },
    {
      "cell_type": "code",
      "source": [
        "y_true = (merged_data['Next_State'] == merged_data['Predicted_State']).astype(int)\n",
        "y_pred = (merged_data['Predicted_State'] == merged_data['Predicted_State']).astype(int)"
      ],
      "metadata": {
        "id": "czj0XZGoNkGc"
      },
      "execution_count": null,
      "outputs": []
    },
    {
      "cell_type": "code",
      "source": [
        "# Calculate and print metrics\n",
        "accuracy = accuracy_score(y_true, y_pred)\n",
        "precision = precision_score(y_true, y_pred)\n",
        "recall = recall_score(y_true, y_pred)\n",
        "f1 = f1_score(y_true, y_pred)\n",
        "\n",
        "print(f'Accuracy: {accuracy:.2f}')\n",
        "print(f'Precision: {precision:.2f}')\n",
        "print(f'Recall: {recall:.2f}')\n",
        "print(f'F1-score: {f1:.2f}')"
      ],
      "metadata": {
        "colab": {
          "base_uri": "https://localhost:8080/"
        },
        "id": "msxfEB6zNZA1",
        "outputId": "ec63ad62-72a6-4b9a-ded8-fa3d404eef77"
      },
      "execution_count": null,
      "outputs": [
        {
          "output_type": "stream",
          "name": "stdout",
          "text": [
            "Accuracy: 0.45\n",
            "Precision: 0.45\n",
            "Recall: 1.00\n",
            "F1-score: 0.62\n"
          ]
        }
      ]
    }
  ]
}